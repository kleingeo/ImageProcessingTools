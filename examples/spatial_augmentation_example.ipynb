{
 "cells": [
  {
   "cell_type": "markdown",
   "source": [
    "# Spatial Augmentation Example - Random Values\n",
    "\n",
    "The first thing is to load the necessary packages and set the random seed for reproducibility.\n",
    "\n",
    "Note: `matplotlip` is not a requirement for the `medipt` package, but it is used here to visualize the results. You can ignore `matplotlib` and simple save the image and/or segmentations and open them in another viewer or your choosing. "
   ],
   "metadata": {
    "collapsed": false
   },
   "id": "cef592ec855566b7"
  },
  {
   "cell_type": "code",
   "outputs": [],
   "source": [
    "import numpy as np\n",
    "import matplotlib.pyplot as plt\n",
    "import medipt\n",
    "import SimpleITK as sitk\n",
    "import random\n",
    "\n",
    "seed = 42\n",
    "\n",
    "random.seed(seed)\n",
    "np.random.seed(seed)"
   ],
   "metadata": {
    "collapsed": false,
    "ExecuteTime": {
     "end_time": "2024-06-24T14:37:59.933866Z",
     "start_time": "2024-06-24T14:37:59.920867Z"
    }
   },
   "id": "5ac459be365e9901",
   "execution_count": 17
  },
  {
   "cell_type": "markdown",
   "source": [
    "Load the sample image. This image comes from the [VerSe](https://github.com/anjany/verse) spine segmentation dataset. This is a 3D spine segmentation and identification challenge dataset of 3D CT spines."
   ],
   "metadata": {
    "collapsed": false
   },
   "id": "c26d75c145411cde"
  },
  {
   "cell_type": "code",
   "outputs": [
    {
     "name": "stdout",
     "output_type": "stream",
     "text": [
      "size: (196, 546, 61)\n",
      "spacing: (1.0, 1.0, 2.0)\n",
      "direction: (7.929511846977472e-08, 8.748137356131643e-08, -0.9999999999999931, 0.995192868658119, 0.097934438130913, 8.74813750328934e-08, -0.09793443813091307, 0.9951928686581183, 7.929511980364569e-08)\n",
      "origin: (60.0, -292.965087890625, -964.2619018554688)\n"
     ]
    }
   ],
   "source": [
    "image = sitk.ReadImage('verse260.nii.gz')\n",
    "seg = sitk.ReadImage('verse260_seg.nii.gz')\n",
    "\n",
    "print('size:', image.GetSize())\n",
    "print('spacing:', image.GetSpacing())\n",
    "print('direction:', image.GetDirection())\n",
    "print('origin:', image.GetOrigin())"
   ],
   "metadata": {
    "collapsed": false,
    "ExecuteTime": {
     "end_time": "2024-06-24T14:38:00.113868Z",
     "start_time": "2024-06-24T14:37:59.950867Z"
    }
   },
   "id": "6ad666d8d4f07334",
   "execution_count": 18
  },
  {
   "cell_type": "markdown",
   "source": [
    "The next step is not necessary, but first we will reorient the image and segmentation."
   ],
   "metadata": {
    "collapsed": false
   },
   "id": "b8b693c35139034a"
  },
  {
   "cell_type": "code",
   "outputs": [],
   "source": [
    "reorient_filter = sitk.DICOMOrientImageFilter()\n",
    "reorient_filter.SetDesiredCoordinateOrientation('LPS')\n",
    "\n",
    "original_orientation = reorient_filter.GetOrientationFromDirectionCosines(image.GetDirection())\n",
    "\n",
    "image = reorient_filter.Execute(image)\n",
    "seg = reorient_filter.Execute(seg)"
   ],
   "metadata": {
    "collapsed": false,
    "ExecuteTime": {
     "end_time": "2024-06-24T14:38:00.173870Z",
     "start_time": "2024-06-24T14:38:00.115869Z"
    }
   },
   "id": "c1ec5b5a8145b5aa",
   "execution_count": 19
  },
  {
   "cell_type": "markdown",
   "source": [
    "Now, we are going to define our augmentation and resampling parameters. For this example, we are going to resample the image to a isovoxel spacing of 1x1x1 mm and to an output shape of 256 by 256 by 512. We are going to keep the same direction and origin as the original image. \n",
    "\n",
    "As we have a 3D image, `dim=3`."
   ],
   "metadata": {
    "collapsed": false
   },
   "id": "e1edf132d7e32b4b"
  },
  {
   "cell_type": "markdown",
   "source": [
    "Note: The overall transforms are generated using the `medipt.transforms.generate_sitk_transform` function. One of the parameters is `legacy_random_state`, which is set to `True` by default. In newer versions of `numpy`, which is used to generate the random transform parameters, has a newer mechanism for how random numbers are generated. This will not go into this here, but just note that is what the argument does. \n",
    "\n",
    "Also, since we defined the seed above, we do not need to pass the seed into `medipt.transforms.generate_sitk_transform`. The seed can be passed through as well, and the result will be the same. For simplicity, if seed is globally defined, the `seed` argument should be left as `None` and the `legacy_random_state` is defined as `True`. \n",
    "\n",
    "The `seed` should only be passed if it is defined as a `np.random.Generator` or `np.random.BitGenerator` and `legacy_random_state` is set to `False`.\n",
    " "
   ],
   "metadata": {
    "collapsed": false
   },
   "id": "e4aade8c14631e76"
  },
  {
   "cell_type": "code",
   "outputs": [],
   "source": [
    "image_size = (256, 256, 512)\n",
    "resample_spacing = (1, 1, 1)\n",
    "\n",
    "dim = 3\n",
    "\n",
    "spatial_params = {}\n",
    "spatial_params['input_size'] = image.GetSize()\n",
    "spatial_params['input_spacing'] = image.GetSpacing()\n",
    "spatial_params['input_origin'] = image.GetOrigin()\n",
    "spatial_params['input_direction'] = image.GetDirection()\n",
    "\n",
    "spatial_params['output_size'] = image_size\n",
    "spatial_params['output_spacing'] = resample_spacing\n",
    "spatial_params['output_origin'] = image.GetOrigin()\n",
    "spatial_params['output_direction'] = image.GetDirection()\n",
    "\n",
    "\n",
    "spatial_params['random_rotation'] = [0.25, 0.25, 0.25]\n",
    "spatial_params['random_translation'] = [30, 30, 30]\n",
    "spatial_params['random_scaling'] = [0.15, 0.15, 0.15]\n",
    "spatial_params['random_uniform_scaling'] = 0.15\n",
    "spatial_params['random_flipping'] = [1, 0, 0]\n",
    "\n",
    "\n",
    "spatial_params['random_elastic_deformation'] = True\n",
    "spatial_params['max_deformation'] = [25, 25, 25]\n",
    "spatial_params['num_grid_points'] = [6, 6, 6]\n",
    "spatial_params['spline_order'] = 3\n",
    "\n",
    "\n",
    "medipt_composite_transform, transform_list = medipt.transforms.generate_sitk_transform(params=spatial_params,\n",
    "                                                                                       dim=dim,\n",
    "                                                                                       seed=seed,\n",
    "                                                                                       legacy_random_state=True)\n",
    "\n"
   ],
   "metadata": {
    "collapsed": false,
    "ExecuteTime": {
     "end_time": "2024-06-24T14:38:00.188872Z",
     "start_time": "2024-06-24T14:38:00.174869Z"
    }
   },
   "id": "2c6a0e5ce4809629",
   "execution_count": 20
  },
  {
   "cell_type": "markdown",
   "source": [
    "Initialize the resample functions for both the image and the segmentation. This allows us to have slightly different parameters for both, like the `default_pixel_value`, `pixel_type`, and the `interpolator`. The image resample could use different interpolators but the segmentation resampler should always use `nearest` to keep the output strictly integer. "
   ],
   "metadata": {
    "collapsed": false
   },
   "id": "10a94fce7094ba3f"
  },
  {
   "cell_type": "code",
   "outputs": [],
   "source": [
    "image_resampler = medipt.resample_image.ResampleImage(interpolator='linear',\n",
    "                                post_processing_sitk=None,\n",
    "                                dim=dim,\n",
    "                                default_pixel_value=-1024,\n",
    "                                )\n",
    "\n",
    "seg_resampler = medipt.resample_image.ResampleImage(interpolator='nearest',\n",
    "                              post_processing_sitk=None,\n",
    "                              dim=dim,\n",
    "                              pixel_type=sitk.sitkUInt8,\n",
    "                              default_pixel_value=0,\n",
    "                              )"
   ],
   "metadata": {
    "collapsed": false,
    "ExecuteTime": {
     "end_time": "2024-06-24T14:38:00.203867Z",
     "start_time": "2024-06-24T14:38:00.189868Z"
    }
   },
   "id": "43cc2204a69d2db7",
   "execution_count": 21
  },
  {
   "cell_type": "markdown",
   "source": [
    "Need to convert the `medipt_composite_transform` to a `sitk.Transform` object to use in the resample functions."
   ],
   "metadata": {
    "collapsed": false
   },
   "id": "a17bd183d72fb3e9"
  },
  {
   "cell_type": "code",
   "outputs": [],
   "source": [
    "composite_transform = medipt_composite_transform.create_composite(dim)"
   ],
   "metadata": {
    "collapsed": false,
    "ExecuteTime": {
     "end_time": "2024-06-24T14:38:00.218868Z",
     "start_time": "2024-06-24T14:38:00.205868Z"
    }
   },
   "id": "d290d5723c539917",
   "execution_count": 22
  },
  {
   "cell_type": "markdown",
   "source": [
    "Put it all together"
   ],
   "metadata": {
    "collapsed": false
   },
   "id": "946ef641f90991c5"
  },
  {
   "cell_type": "code",
   "outputs": [],
   "source": [],
   "metadata": {
    "collapsed": false,
    "ExecuteTime": {
     "end_time": "2024-06-24T14:38:00.233867Z",
     "start_time": "2024-06-24T14:38:00.220867Z"
    }
   },
   "id": "ab08f23fb3af5f0b",
   "execution_count": 22
  },
  {
   "cell_type": "code",
   "outputs": [],
   "source": [
    "resampled_img = image_resampler.get_resampled_images(image, transform=composite_transform,\n",
    "                                                     input_output_space_dict=spatial_params)\n",
    "\n",
    "resampled_seg = seg_resampler.get_resampled_images(seg, transform=composite_transform,\n",
    "                                                   input_output_space_dict=spatial_params)"
   ],
   "metadata": {
    "collapsed": false,
    "is_executing": true,
    "ExecuteTime": {
     "start_time": "2024-06-24T14:38:00.234867Z"
    }
   },
   "id": "41028dd9c273a2c3",
   "execution_count": null
  },
  {
   "cell_type": "code",
   "outputs": [],
   "source": [
    "from matplotlib.colors import ListedColormap, Normalize\n",
    "import numpy as np\n",
    "\n",
    "colors_itk = (1 / 255) * np.array([\n",
    "    [255, 0, 0], [0, 255, 0], [0, 0, 255], [255, 255, 0], [0, 255, 255],\n",
    "    [255, 0, 255], [255, 239, 213],  # Label 1-7 (C1-7)\n",
    "    [0, 0, 205], [205, 133, 63], [210, 180, 140], [102, 205, 170], [0, 0, 128],\n",
    "    [0, 139, 139], [46, 139, 87], [255, 228, 225], [106, 90, 205], [221, 160, 221],\n",
    "    [233, 150, 122], [165, 42, 42],  # Label 8-19 (T1-12)\n",
    "    [255, 250, 250], [147, 112, 219], [218, 112, 214], [75, 0, 130], [255, 182, 193],\n",
    "    [60, 179, 113], [255, 235, 205],  # Label 20-26 (L1-6, sacrum)\n",
    "    [255, 235, 205], [255, 228, 196],  # Label 27 cocc, 28 T13,\n",
    "    [218, 165, 32], [0, 128, 128], [188, 143, 143], [255, 105, 180],\n",
    "    [255, 0, 0], [0, 255, 0], [0, 0, 255], [255, 255, 0], [0, 255, 255],\n",
    "    [255, 0, 255], [255, 239, 213],  # 29-39 unused\n",
    "    [0, 0, 205], [205, 133, 63], [210, 180, 140], [102, 205, 170], [0, 0, 128],\n",
    "    [0, 139, 139], [46, 139, 87], [255, 228, 225], [106, 90, 205], [221, 160, 221],\n",
    "    [233, 150, 122],  # Label 40-50 (subregions)\n",
    "    [255, 250, 250], [147, 112, 219], [218, 112, 214], [75, 0, 130], [255, 182, 193],\n",
    "    [60, 179, 113], [255, 235, 205], [255, 105, 180], [165, 42, 42], [188, 143, 143],\n",
    "    [255, 235, 205], [255, 228, 196], [218, 165, 32], [0, 128, 128]  # rest unused\n",
    "])\n",
    "cm_itk = ListedColormap(colors_itk)\n",
    "cm_itk.set_bad(color='w', alpha=0)\n",
    "\n",
    "wdw_sbone = Normalize(vmin=-500, vmax=1300, clip=True)\n",
    "wdw_hbone = Normalize(vmin=-200, vmax=1000, clip=True)"
   ],
   "metadata": {
    "collapsed": false,
    "is_executing": true
   },
   "id": "de9ca4a9a7cec046",
   "execution_count": null
  },
  {
   "cell_type": "code",
   "outputs": [],
   "source": [
    "sagittal_slice = 140\n",
    "\n",
    "image_np = sitk.GetArrayFromImage(resampled_img)\n",
    "seg_np = sitk.GetArrayFromImage(resampled_seg)\n",
    "\n",
    "seg_mask = np.ma.masked_where(seg_np < 0.9, seg_np)\n",
    "\n",
    "image_slice = image_np[:, :, sagittal_slice]\n",
    "seg_slice = seg_mask[:, :, sagittal_slice]\n",
    "\n",
    "fig = plt.figure(figsize=(10, 10))\n",
    "\n",
    "ax = fig.add_subplot(111)\n",
    "\n",
    "\n",
    "ax.imshow(image_slice, cmap='gray', norm=wdw_sbone)\n",
    "ax.imshow(seg_slice, interpolation='none', alpha=0.4, cmap=cm_itk, vmin=1, vmax=65)\n",
    "\n",
    "bottom = 0\n",
    "top = image_np.shape[0]\n",
    "\n",
    "axis_crop_min = 0\n",
    "axis_crop_max = 256\n",
    "\n",
    "ax.set_ylim(bottom=bottom, top=top)\n",
    "ax.set_xlim(left=axis_crop_max, right=axis_crop_min)\n",
    "ax.axis('off')\n",
    "plt.show()"
   ],
   "metadata": {
    "collapsed": false,
    "is_executing": true
   },
   "id": "de44d988bd1c643d",
   "execution_count": null
  },
  {
   "cell_type": "markdown",
   "source": [
    "If the seed was not passed into the `medipt.transforms.generate_sitk_transform` function, the random values would be different."
   ],
   "metadata": {
    "collapsed": false
   },
   "id": "2559bf8770d9c160"
  },
  {
   "cell_type": "code",
   "outputs": [],
   "source": [
    "random.seed(seed)\n",
    "np.random.seed(seed)\n",
    "\n",
    "\n",
    "medipt_composite_transform, transform_list = medipt.transforms.generate_sitk_transform(params=spatial_params,\n",
    "                                                                                       dim=dim,\n",
    "                                                                                       seed=None,\n",
    "                                                                                       legacy_random_state=True)\n",
    "\n",
    "image_resampler = medipt.resample_image.ResampleImage(interpolator='linear',\n",
    "                                post_processing_sitk=None,\n",
    "                                dim=dim,\n",
    "                                default_pixel_value=-1024,\n",
    "                                )\n",
    "\n",
    "seg_resampler = medipt.resample_image.ResampleImage(interpolator='nearest',\n",
    "                              post_processing_sitk=None,\n",
    "                              dim=dim,\n",
    "                              pixel_type=sitk.sitkUInt8,\n",
    "                              default_pixel_value=0,\n",
    "                              )\n",
    "\n",
    "\n",
    "composite_transform = medipt_composite_transform.create_composite(dim)\n",
    "\n",
    "resampled_img = image_resampler.get_resampled_images(image, transform=composite_transform,\n",
    "                                                     input_output_space_dict=spatial_params)\n",
    "\n",
    "resampled_seg = seg_resampler.get_resampled_images(seg, transform=composite_transform,\n",
    "                                                   input_output_space_dict=spatial_params)\n",
    "\n",
    "\n",
    "sagittal_slice = 140\n",
    "\n",
    "image_np = sitk.GetArrayFromImage(resampled_img)\n",
    "seg_np = sitk.GetArrayFromImage(resampled_seg)\n",
    "\n",
    "seg_mask = np.ma.masked_where(seg_np < 0.9, seg_np)\n",
    "\n",
    "image_slice = image_np[:, :, sagittal_slice]\n",
    "seg_slice = seg_mask[:, :, sagittal_slice]\n",
    "\n",
    "fig = plt.figure(figsize=(10, 10))\n",
    "\n",
    "ax = fig.add_subplot(111)\n",
    "\n",
    "\n",
    "ax.imshow(image_slice, cmap='gray', norm=wdw_sbone)\n",
    "ax.imshow(seg_slice, interpolation='none', alpha=0.4, cmap=cm_itk, vmin=1, vmax=65)\n",
    "\n",
    "bottom = 0\n",
    "top = image_np.shape[0]\n",
    "\n",
    "axis_crop_min = 0\n",
    "axis_crop_max = 256\n",
    "\n",
    "ax.set_ylim(bottom=bottom, top=top)\n",
    "ax.set_xlim(left=axis_crop_max, right=axis_crop_min)\n",
    "ax.axis('off')\n",
    "plt.show()"
   ],
   "metadata": {
    "collapsed": false,
    "is_executing": true
   },
   "id": "d2ebb71c6f34a21e",
   "execution_count": null
  },
  {
   "cell_type": "markdown",
   "source": [],
   "metadata": {
    "collapsed": false
   },
   "id": "de1eedb79e6d88a6"
  }
 ],
 "metadata": {
  "kernelspec": {
   "display_name": "Python 3",
   "language": "python",
   "name": "python3"
  },
  "language_info": {
   "codemirror_mode": {
    "name": "ipython",
    "version": 2
   },
   "file_extension": ".py",
   "mimetype": "text/x-python",
   "name": "python",
   "nbconvert_exporter": "python",
   "pygments_lexer": "ipython2",
   "version": "2.7.6"
  }
 },
 "nbformat": 4,
 "nbformat_minor": 5
}
